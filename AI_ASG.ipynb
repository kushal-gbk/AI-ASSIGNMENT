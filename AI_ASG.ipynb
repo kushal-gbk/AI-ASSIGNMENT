{
 "cells": [
  {
   "cell_type": "code",
   "execution_count": 36,
   "metadata": {
    "collapsed": false
   },
   "outputs": [],
   "source": [
    "from keras.models import Sequential\n",
    "from keras.layers import Dense\n",
    "from keras.datasets import mnist\n",
    "from keras.utils import np_utils\n",
    "\n",
    "import struct\n",
    "import numpy as np\n",
    "from matplotlib import pyplot\n",
    "import matplotlib as mpl\n",
    "\n",
    "\n",
    "np.random.seed(5)"
   ]
  },
  {
   "cell_type": "markdown",
   "metadata": {},
   "source": [
    "# Loading Training Dataset"
   ]
  },
  {
   "cell_type": "code",
   "execution_count": 44,
   "metadata": {
    "collapsed": true
   },
   "outputs": [],
   "source": [
    "(X_train, y_train), (X_test, y_test) = mnist.load_data()"
   ]
  },
  {
   "cell_type": "code",
   "execution_count": 45,
   "metadata": {
    "collapsed": false
   },
   "outputs": [],
   "source": [
    "'''\n",
    "    Flatten the Numpy Array from 2D (28*28) to 1D (784*1)\n",
    "'''\n",
    "X_train = X_train.reshape(X_train.shape[0], num_pixels).astype('float32')\n",
    "X_test = X_test.reshape(X_test.shape[0], num_pixels).astype('float32')\n",
    "\n"
   ]
  },
  {
   "cell_type": "code",
   "execution_count": 46,
   "metadata": {
    "collapsed": true
   },
   "outputs": [],
   "source": [
    "'''\n",
    "    Change Intensity Values of Pixels from 0 - 255 to 0 - 1\n",
    "'''\n",
    "X_train = X_train / 255\n",
    "X_test = X_test / 255"
   ]
  },
  {
   "cell_type": "code",
   "execution_count": 47,
   "metadata": {
    "collapsed": true
   },
   "outputs": [],
   "source": [
    "'''\n",
    "    One Hot Encoding . \n",
    "    i.e.,\n",
    "        0 =  0000000001\n",
    "        1 =  0000000010\n",
    "        2 =  0000000100\n",
    "        3 =  0000001000\n",
    "        .\n",
    "        .\n",
    "        9 =  1000000000\n",
    "'''\n",
    "y_train = np_utils.to_categorical(y_train)\n",
    "y_test = np_utils.to_categorical(y_test)"
   ]
  },
  {
   "cell_type": "markdown",
   "metadata": {},
   "source": [
    "# Building the Model"
   ]
  },
  {
   "cell_type": "code",
   "execution_count": 48,
   "metadata": {
    "collapsed": false
   },
   "outputs": [],
   "source": [
    "model = Sequential()\n",
    "model.add(Dense(784 , input_dim=784, kernel_initializer='random_uniform',activation='sigmoid'))\n",
    "model.add(Dense(16 , activation='sigmoid'))\n",
    "model.add(Dense(16 , activation='sigmoid'))\n",
    "model.add(Dense(10 , activation='sigmoid'))\n"
   ]
  },
  {
   "cell_type": "code",
   "execution_count": 49,
   "metadata": {
    "collapsed": true
   },
   "outputs": [],
   "source": [
    "'''\n",
    "    Compile the model\n",
    "'''\n",
    "model.compile(loss='categorical_crossentropy', optimizer='adam', metrics=['accuracy'])"
   ]
  },
  {
   "cell_type": "code",
   "execution_count": null,
   "metadata": {
    "collapsed": false
   },
   "outputs": [
    {
     "name": "stdout",
     "output_type": "stream",
     "text": [
      "Train on 60000 samples, validate on 10000 samples\n",
      "Epoch 1/10\n",
      " - 10s - loss: 2.0355 - acc: 0.4861 - val_loss: 1.6313 - val_acc: 0.8236\n",
      "Epoch 2/10\n",
      " - 9s - loss: 1.2643 - acc: 0.8810 - val_loss: 0.9323 - val_acc: 0.9098\n",
      "Epoch 3/10\n",
      " - 11s - loss: 0.7024 - acc: 0.9293 - val_loss: 0.5177 - val_acc: 0.9419\n",
      "Epoch 4/10\n",
      " - 9s - loss: 0.4054 - acc: 0.9502 - val_loss: 0.3219 - val_acc: 0.9536\n",
      "Epoch 5/10\n",
      " - 9s - loss: 0.2623 - acc: 0.9618 - val_loss: 0.2304 - val_acc: 0.9626\n",
      "Epoch 6/10\n"
     ]
    }
   ],
   "source": [
    "'''\n",
    "    Fit the Model\n",
    "'''\n",
    "\n",
    "# Fit the model\n",
    "model.fit(X_train, y_train, validation_data=(X_test, y_test), epochs=10, batch_size=200, verbose=2)\n",
    "# Final evaluation of the model\n",
    "scores = model.evaluate(X_test, y_test, verbose=0)\n",
    "print(\"Baseline Error: %.2f%%\" % (100-scores[1]*100))"
   ]
  },
  {
   "cell_type": "code",
   "execution_count": 33,
   "metadata": {
    "collapsed": false
   },
   "outputs": [],
   "source": [
    "from keras.datasets import mnist\n",
    "from keras.utils import np_utils\n",
    "\n",
    "(X_train, y_train), (X_test, y_test) = mnist.load_data()\n",
    "X_train.shape\n",
    "\n",
    "num_pixels = X_train.shape[1] * X_train.shape[2]\n",
    "X_train = X_train.reshape(X_train.shape[0], num_pixels).astype('float32')\n",
    "X_test = X_test.reshape(X_test.shape[0], num_pixels).astype('float32')\n",
    "\n",
    "\n",
    "X_train = X_train / 255\n",
    "X_test = X_test / 255\n",
    "\n",
    "\n",
    "\n",
    "\n",
    "# one hot encode outputs\n",
    "y_train = np_utils.to_categorical(y_train)\n",
    "y_test = np_utils.to_categorical(y_test)\n",
    "num_classes = y_test.shape[1]\n",
    "\n",
    "\n",
    "\n",
    "# create model\n",
    "model = Sequential()\n",
    "model.add(Dense(num_pixels, input_dim=num_pixels, kernel_initializer='normal', activation='relu'))\n",
    "model.add(Dense(num_classes, kernel_initializer='normal', activation='softmax'))\n",
    "# Compile model\n",
    "model.compile(loss='categorical_crossentropy', optimizer='adam', metrics=['accuracy'])"
   ]
  },
  {
   "cell_type": "code",
   "execution_count": 34,
   "metadata": {
    "collapsed": false
   },
   "outputs": [
    {
     "name": "stdout",
     "output_type": "stream",
     "text": [
      "Train on 60000 samples, validate on 10000 samples\n",
      "Epoch 1/10\n",
      " - 11s - loss: 0.2809 - acc: 0.9202 - val_loss: 0.1401 - val_acc: 0.9573\n",
      "Epoch 2/10\n",
      " - 10s - loss: 0.1115 - acc: 0.9680 - val_loss: 0.0949 - val_acc: 0.9730\n",
      "Epoch 3/10\n",
      " - 10s - loss: 0.0725 - acc: 0.9792 - val_loss: 0.0753 - val_acc: 0.9756\n",
      "Epoch 4/10\n",
      " - 9s - loss: 0.0504 - acc: 0.9854 - val_loss: 0.0694 - val_acc: 0.9778\n",
      "Epoch 5/10\n",
      " - 9s - loss: 0.0356 - acc: 0.9901 - val_loss: 0.0635 - val_acc: 0.9792\n",
      "Epoch 6/10\n",
      " - 10s - loss: 0.0274 - acc: 0.9929 - val_loss: 0.0681 - val_acc: 0.9789\n",
      "Epoch 7/10\n",
      " - 10s - loss: 0.0206 - acc: 0.9951 - val_loss: 0.0563 - val_acc: 0.9819\n",
      "Epoch 8/10\n",
      " - 13s - loss: 0.0144 - acc: 0.9967 - val_loss: 0.0562 - val_acc: 0.9833\n",
      "Epoch 9/10\n",
      " - 10s - loss: 0.0103 - acc: 0.9979 - val_loss: 0.0613 - val_acc: 0.9801\n",
      "Epoch 10/10\n",
      " - 10s - loss: 0.0078 - acc: 0.9987 - val_loss: 0.0593 - val_acc: 0.9816\n",
      "Baseline Error: 1.84%\n"
     ]
    }
   ],
   "source": [
    "\n",
    "# Fit the model\n",
    "model.fit(X_train, y_train, validation_data=(X_test, y_test), epochs=10, batch_size=200, verbose=2)\n",
    "# Final evaluation of the model\n",
    "scores = model.evaluate(X_test, y_test, verbose=0)\n",
    "print(\"Baseline Error: %.2f%%\" % (100-scores[1]*100))"
   ]
  }
 ],
 "metadata": {
  "anaconda-cloud": {},
  "kernelspec": {
   "display_name": "Python [default]",
   "language": "python",
   "name": "python3"
  },
  "language_info": {
   "codemirror_mode": {
    "name": "ipython",
    "version": 3
   },
   "file_extension": ".py",
   "mimetype": "text/x-python",
   "name": "python",
   "nbconvert_exporter": "python",
   "pygments_lexer": "ipython3",
   "version": "3.5.2"
  }
 },
 "nbformat": 4,
 "nbformat_minor": 1
}
