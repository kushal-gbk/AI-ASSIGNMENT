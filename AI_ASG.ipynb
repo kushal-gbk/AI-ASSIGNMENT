{
 "cells": [
  {
   "cell_type": "code",
   "execution_count": 2,
   "metadata": {
    "collapsed": false
   },
   "outputs": [
    {
     "name": "stderr",
     "output_type": "stream",
     "text": [
      "Using TensorFlow backend.\n"
     ]
    }
   ],
   "source": [
    "from keras.models import Sequential\n",
    "from keras.layers import Dense\n",
    "from keras.datasets import mnist\n",
    "from keras.utils import np_utils\n",
    "\n",
    "import struct\n",
    "import numpy as np\n",
    "from matplotlib import pyplot\n",
    "import matplotlib as mpl\n",
    "\n",
    "\n",
    "np.random.seed(5)"
   ]
  },
  {
   "cell_type": "markdown",
   "metadata": {},
   "source": [
    "# Loading Training Dataset"
   ]
  },
  {
   "cell_type": "code",
   "execution_count": 3,
   "metadata": {
    "collapsed": true
   },
   "outputs": [],
   "source": [
    "(X_train, y_train), (X_test, y_test) = mnist.load_data()"
   ]
  },
  {
   "cell_type": "code",
   "execution_count": 6,
   "metadata": {
    "collapsed": false
   },
   "outputs": [],
   "source": [
    "'''\n",
    "    Flatten the Numpy Array from 2D (28*28) to 1D (784*1)\n",
    "'''\n",
    "X_train = X_train.reshape(X_train.shape[0], 784).astype('float32')\n",
    "X_test = X_test.reshape(X_test.shape[0], 784).astype('float32')\n",
    "\n"
   ]
  },
  {
   "cell_type": "code",
   "execution_count": 7,
   "metadata": {
    "collapsed": true
   },
   "outputs": [],
   "source": [
    "'''\n",
    "    Change Intensity Values of Pixels from 0 - 255 to 0 - 1\n",
    "'''\n",
    "X_train = X_train / 255\n",
    "X_test = X_test / 255"
   ]
  },
  {
   "cell_type": "code",
   "execution_count": 8,
   "metadata": {
    "collapsed": true
   },
   "outputs": [],
   "source": [
    "'''\n",
    "    One Hot Encoding . \n",
    "    i.e.,\n",
    "        0 =  0000000001\n",
    "        1 =  0000000010\n",
    "        2 =  0000000100\n",
    "        3 =  0000001000\n",
    "        .\n",
    "        .\n",
    "        9 =  1000000000\n",
    "'''\n",
    "y_train = np_utils.to_categorical(y_train)\n",
    "y_test = np_utils.to_categorical(y_test)"
   ]
  },
  {
   "cell_type": "markdown",
   "metadata": {},
   "source": [
    "### SIGMOID ACTIVATION"
   ]
  },
  {
   "cell_type": "code",
   "execution_count": 9,
   "metadata": {
    "collapsed": false
   },
   "outputs": [],
   "source": [
    "model = Sequential()\n",
    "\n",
    "'''\n",
    "    This is Input Layer\n",
    "'''\n",
    "model.add(Dense(784 , input_dim=784, kernel_initializer='random_uniform',activation='sigmoid'))\n",
    "\n",
    "'''\n",
    "    These are hidden layers . 16 Neurons in each Layer\n",
    "'''\n",
    "model.add(Dense(16 , activation='sigmoid'))\n",
    "model.add(Dense(16 , activation='sigmoid'))\n",
    "\n",
    "'''\n",
    "    This is output Layer\n",
    "'''\n",
    "model.add(Dense(10 , activation='sigmoid'))\n"
   ]
  },
  {
   "cell_type": "code",
   "execution_count": 10,
   "metadata": {
    "collapsed": true
   },
   "outputs": [],
   "source": [
    "'''\n",
    "    Compile the model\n",
    "'''\n",
    "model.compile(loss='categorical_crossentropy', optimizer='adam', metrics=['accuracy'])"
   ]
  },
  {
   "cell_type": "code",
   "execution_count": 11,
   "metadata": {
    "collapsed": false
   },
   "outputs": [
    {
     "name": "stdout",
     "output_type": "stream",
     "text": [
      "Train on 60000 samples, validate on 10000 samples\n",
      "Epoch 1/10\n",
      " - 11s - loss: 1.9062 - acc: 0.5161 - val_loss: 1.5188 - val_acc: 0.7819\n",
      "Epoch 2/10\n",
      " - 9s - loss: 1.2046 - acc: 0.8480 - val_loss: 0.9114 - val_acc: 0.9152\n",
      "Epoch 3/10\n",
      " - 10s - loss: 0.6958 - acc: 0.9279 - val_loss: 0.5159 - val_acc: 0.9429\n",
      "Epoch 4/10\n",
      " - 9s - loss: 0.4022 - acc: 0.9498 - val_loss: 0.3219 - val_acc: 0.9550\n",
      "Epoch 5/10\n",
      " - 9s - loss: 0.2595 - acc: 0.9623 - val_loss: 0.2255 - val_acc: 0.9637\n",
      "Epoch 6/10\n",
      " - 9s - loss: 0.1855 - acc: 0.9712 - val_loss: 0.1759 - val_acc: 0.9693\n",
      "Epoch 7/10\n",
      " - 10s - loss: 0.1418 - acc: 0.9758 - val_loss: 0.1516 - val_acc: 0.9697\n",
      "Epoch 8/10\n",
      " - 10s - loss: 0.1120 - acc: 0.9807 - val_loss: 0.1270 - val_acc: 0.9738\n",
      "Epoch 9/10\n",
      " - 10s - loss: 0.0903 - acc: 0.9839 - val_loss: 0.1147 - val_acc: 0.9742\n",
      "Epoch 10/10\n",
      " - 9s - loss: 0.0726 - acc: 0.9875 - val_loss: 0.0997 - val_acc: 0.9774\n",
      "Final Baseline Error(Using Sigmoid): 2.26%\n"
     ]
    }
   ],
   "source": [
    "'''\n",
    "    Fit the Model\n",
    "'''\n",
    "model.fit(X_train, y_train, validation_data=(X_test, y_test), epochs=10, batch_size=200, verbose=2)\n",
    "scores = model.evaluate(X_test, y_test, verbose=0)\n",
    "\n",
    "print(\"Final Baseline Error(Using Sigmoid): %.2f%%\" % (100-scores[1]*100))"
   ]
  },
  {
   "cell_type": "markdown",
   "metadata": {},
   "source": [
    "### RELU ACTIVATION"
   ]
  },
  {
   "cell_type": "code",
   "execution_count": 12,
   "metadata": {
    "collapsed": false
   },
   "outputs": [
    {
     "name": "stdout",
     "output_type": "stream",
     "text": [
      "Train on 60000 samples, validate on 10000 samples\n",
      "Epoch 1/10\n",
      " - 10s - loss: 0.7531 - acc: 0.6974 - val_loss: 0.1663 - val_acc: 0.9525\n",
      "Epoch 2/10\n",
      " - 11s - loss: 0.1421 - acc: 0.9597 - val_loss: 0.1416 - val_acc: 0.9580\n",
      "Epoch 3/10\n",
      " - 9s - loss: 0.0939 - acc: 0.9722 - val_loss: 0.0987 - val_acc: 0.9705\n",
      "Epoch 4/10\n",
      " - 11s - loss: 0.0670 - acc: 0.9803 - val_loss: 0.0891 - val_acc: 0.9744\n",
      "Epoch 5/10\n",
      " - 11s - loss: 0.0508 - acc: 0.9847 - val_loss: 0.0748 - val_acc: 0.9772\n",
      "Epoch 6/10\n",
      " - 10s - loss: 0.0365 - acc: 0.9897 - val_loss: 0.0846 - val_acc: 0.9751\n",
      "Epoch 7/10\n",
      " - 9s - loss: 0.0288 - acc: 0.9915 - val_loss: 0.0714 - val_acc: 0.9806\n",
      "Epoch 8/10\n",
      " - 10s - loss: 0.0198 - acc: 0.9946 - val_loss: 0.0753 - val_acc: 0.9793\n",
      "Epoch 9/10\n",
      " - 10s - loss: 0.0168 - acc: 0.9952 - val_loss: 0.0712 - val_acc: 0.9813\n",
      "Epoch 10/10\n",
      " - 12s - loss: 0.0144 - acc: 0.9958 - val_loss: 0.0772 - val_acc: 0.9800\n",
      "Final Baseline Error(Using Relu): 2.00%\n"
     ]
    }
   ],
   "source": [
    "model_relu = Sequential()\n",
    "\n",
    "model_relu.add(Dense(784 , input_dim=784, kernel_initializer='random_uniform',activation='relu'))\n",
    "\n",
    "model_relu.add(Dense(16 , activation='relu'))\n",
    "model_relu.add(Dense(16 , activation='relu'))\n",
    "\n",
    "model_relu.add(Dense(10 , activation='sigmoid'))\n",
    "\n",
    "model_relu.compile(loss='categorical_crossentropy', optimizer='adam', metrics=['accuracy'])\n",
    "model_relu.fit(X_train, y_train, validation_data=(X_test, y_test), epochs=10, batch_size=200, verbose=2)\n",
    "scores = model_relu.evaluate(X_test, y_test, verbose=0)\n",
    "\n",
    "print(\"Final Baseline Error(Using Relu): %.2f%%\" % (100-scores[1]*100))"
   ]
  },
  {
   "cell_type": "markdown",
   "metadata": {},
   "source": [
    "### SOFTMAX ACTIVATION"
   ]
  },
  {
   "cell_type": "code",
   "execution_count": 13,
   "metadata": {
    "collapsed": false
   },
   "outputs": [
    {
     "name": "stdout",
     "output_type": "stream",
     "text": [
      "Train on 60000 samples, validate on 10000 samples\n",
      "Epoch 1/10\n",
      " - 12s - loss: nan - acc: 0.1612 - val_loss: nan - val_acc: 0.0980\n",
      "Epoch 2/10\n",
      " - 12s - loss: nan - acc: 0.0987 - val_loss: nan - val_acc: 0.0980\n",
      "Epoch 3/10\n",
      " - 10s - loss: nan - acc: 0.0987 - val_loss: nan - val_acc: 0.0980\n",
      "Epoch 4/10\n",
      " - 10s - loss: nan - acc: 0.0987 - val_loss: nan - val_acc: 0.0980\n",
      "Epoch 5/10\n",
      " - 10s - loss: nan - acc: 0.0987 - val_loss: nan - val_acc: 0.0980\n",
      "Epoch 6/10\n",
      " - 9s - loss: nan - acc: 0.0987 - val_loss: nan - val_acc: 0.0980\n",
      "Epoch 7/10\n",
      " - 10s - loss: nan - acc: 0.0987 - val_loss: nan - val_acc: 0.0980\n",
      "Epoch 8/10\n",
      " - 14s - loss: nan - acc: 0.0987 - val_loss: nan - val_acc: 0.0980\n",
      "Epoch 9/10\n",
      " - 11s - loss: nan - acc: 0.0987 - val_loss: nan - val_acc: 0.0980\n",
      "Epoch 10/10\n",
      " - 11s - loss: nan - acc: 0.0987 - val_loss: nan - val_acc: 0.0980\n",
      "Final Baseline Error(Using Relu): 90.20%\n"
     ]
    }
   ],
   "source": [
    "model_sm = Sequential()\n",
    "\n",
    "model_sm.add(Dense(784 , input_dim=784, kernel_initializer='random_uniform',activation='relu'))\n",
    "\n",
    "model_sm.add(Dense(16 , activation='softmax'))\n",
    "model_sm.add(Dense(16 , activation='softmax'))\n",
    "\n",
    "model_sm.add(Dense(10 , activation='sigmoid'))\n",
    "\n",
    "model_sm.compile(loss='categorical_crossentropy', optimizer='adam', metrics=['accuracy'])\n",
    "model_sm.fit(X_train, y_train, validation_data=(X_test, y_test), epochs=10, batch_size=200, verbose=2)\n",
    "scores = model_sm.evaluate(X_test, y_test, verbose=0)\n",
    "\n",
    "print(\"Final Baseline Error(Using Softmax): %.2f%%\" % (100-scores[1]*100))"
   ]
  },
  {
   "cell_type": "markdown",
   "metadata": {},
   "source": [
    "# Stochastic Gradient Boost Optimizer ( with Relu activation ) "
   ]
  },
  {
   "cell_type": "code",
   "execution_count": 18,
   "metadata": {
    "collapsed": true
   },
   "outputs": [],
   "source": [
    "from keras import optimizers\n",
    "\n",
    "'''\n",
    "    Stochastic Gradient Boost Optimiser\n",
    "    lr -- > Learning Rate\n",
    "    momentum --> 0.9\n",
    "'''\n",
    "sgd = optimizers.SGD(lr=0.01, decay=1e-6, momentum=0.9, nesterov=False)\n",
    "\n",
    "model_relu.compile(loss='mean_squared_error', optimizer=sgd)"
   ]
  },
  {
   "cell_type": "code",
   "execution_count": null,
   "metadata": {
    "collapsed": false
   },
   "outputs": [
    {
     "name": "stdout",
     "output_type": "stream",
     "text": [
      "Train on 60000 samples, validate on 10000 samples\n",
      "Epoch 1/10\n",
      " - 10s - loss: 0.0075 - acc: 0.9976 - val_loss: 0.1022 - val_acc: 0.9776\n",
      "Epoch 2/10\n",
      " - 9s - loss: 0.0062 - acc: 0.9979 - val_loss: 0.1215 - val_acc: 0.9751\n",
      "Epoch 3/10\n",
      " - 10s - loss: 0.0054 - acc: 0.9983 - val_loss: 0.0895 - val_acc: 0.9819\n",
      "Epoch 4/10\n"
     ]
    }
   ],
   "source": [
    "model_relu.compile(loss='categorical_crossentropy', optimizer='adam', metrics=['accuracy'])\n",
    "model_relu.fit(X_train, y_train, validation_data=(X_test, y_test), epochs=10, batch_size=200, verbose=2)\n",
    "scores = model_relu.evaluate(X_test, y_test, verbose=0)\n",
    "\n",
    "print(\"Final Baseline Error(Using Relu): %.2f%%\" % (100-scores[1]*100))"
   ]
  },
  {
   "cell_type": "code",
   "execution_count": null,
   "metadata": {
    "collapsed": true
   },
   "outputs": [],
   "source": []
  },
  {
   "cell_type": "code",
   "execution_count": null,
   "metadata": {
    "collapsed": true
   },
   "outputs": [],
   "source": []
  },
  {
   "cell_type": "code",
   "execution_count": null,
   "metadata": {
    "collapsed": true
   },
   "outputs": [],
   "source": []
  },
  {
   "cell_type": "code",
   "execution_count": null,
   "metadata": {
    "collapsed": true
   },
   "outputs": [],
   "source": []
  },
  {
   "cell_type": "code",
   "execution_count": null,
   "metadata": {
    "collapsed": true
   },
   "outputs": [],
   "source": []
  },
  {
   "cell_type": "code",
   "execution_count": null,
   "metadata": {
    "collapsed": true
   },
   "outputs": [],
   "source": []
  },
  {
   "cell_type": "code",
   "execution_count": null,
   "metadata": {
    "collapsed": true
   },
   "outputs": [],
   "source": []
  },
  {
   "cell_type": "code",
   "execution_count": null,
   "metadata": {
    "collapsed": true
   },
   "outputs": [],
   "source": []
  },
  {
   "cell_type": "code",
   "execution_count": null,
   "metadata": {
    "collapsed": true
   },
   "outputs": [],
   "source": []
  },
  {
   "cell_type": "code",
   "execution_count": null,
   "metadata": {
    "collapsed": true
   },
   "outputs": [],
   "source": []
  },
  {
   "cell_type": "code",
   "execution_count": null,
   "metadata": {
    "collapsed": true
   },
   "outputs": [],
   "source": []
  }
 ],
 "metadata": {
  "anaconda-cloud": {},
  "kernelspec": {
   "display_name": "Python [default]",
   "language": "python",
   "name": "python3"
  },
  "language_info": {
   "codemirror_mode": {
    "name": "ipython",
    "version": 3
   },
   "file_extension": ".py",
   "mimetype": "text/x-python",
   "name": "python",
   "nbconvert_exporter": "python",
   "pygments_lexer": "ipython3",
   "version": "3.5.2"
  }
 },
 "nbformat": 4,
 "nbformat_minor": 1
}
